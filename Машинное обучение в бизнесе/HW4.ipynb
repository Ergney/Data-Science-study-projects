{
 "cells": [
  {
   "cell_type": "code",
   "execution_count": 223,
   "id": "4f82dcc8",
   "metadata": {},
   "outputs": [],
   "source": [
    "import pandas as pd\n",
    "import numpy as np\n",
    "from sklearn.model_selection import train_test_split\n",
    "from sklearn.preprocessing import normalize\n",
    "from sklearn.preprocessing import StandardScaler\n",
    "from scipy import stats"
   ]
  },
  {
   "cell_type": "code",
   "execution_count": 224,
   "id": "6adab073",
   "metadata": {},
   "outputs": [],
   "source": [
    "df = pd.read_csv(\"C:\\\\Users\\\\Ergney\\\\qwe\\\\data.csv\")"
   ]
  },
  {
   "cell_type": "code",
   "execution_count": 225,
   "id": "60c7808e",
   "metadata": {},
   "outputs": [],
   "source": [
    "df = df.rename(columns={'conversion':\"target\", \"offer\":\"treatment\"})"
   ]
  },
  {
   "cell_type": "code",
   "execution_count": 226,
   "id": "179c643e",
   "metadata": {},
   "outputs": [
    {
     "name": "stderr",
     "output_type": "stream",
     "text": [
      "C:\\Users\\Ergney\\anaconda3\\lib\\site-packages\\pandas\\core\\indexing.py:1637: SettingWithCopyWarning: \n",
      "A value is trying to be set on a copy of a slice from a DataFrame\n",
      "\n",
      "See the caveats in the documentation: https://pandas.pydata.org/pandas-docs/stable/user_guide/indexing.html#returning-a-view-versus-a-copy\n",
      "  self._setitem_single_block(indexer, value, name)\n"
     ]
    }
   ],
   "source": [
    "df[\"treatment\"].loc[df[\"treatment\"] == 'No Offer'] = 0"
   ]
  },
  {
   "cell_type": "code",
   "execution_count": 227,
   "id": "4d02bd28",
   "metadata": {},
   "outputs": [],
   "source": [
    "df[\"treatment\"].loc[df[\"treatment\"] != 0] = 1"
   ]
  },
  {
   "cell_type": "code",
   "execution_count": 228,
   "id": "3d246952",
   "metadata": {},
   "outputs": [],
   "source": [
    "df[\"treatment\"] = pd.to_numeric(df[\"treatment\"], errors='coerce')"
   ]
  },
  {
   "cell_type": "code",
   "execution_count": 229,
   "id": "6cf29ab6",
   "metadata": {},
   "outputs": [
    {
     "data": {
      "text/plain": [
       "1    42694\n",
       "0    21306\n",
       "Name: treatment, dtype: int64"
      ]
     },
     "execution_count": 229,
     "metadata": {},
     "output_type": "execute_result"
    }
   ],
   "source": [
    "df[\"treatment\"].value_counts()"
   ]
  },
  {
   "cell_type": "code",
   "execution_count": 230,
   "id": "db770c0f",
   "metadata": {},
   "outputs": [],
   "source": [
    "features = df.columns[0:-1]\n",
    "x_train, x_test, y_train, y_test = train_test_split(df[features], df[\"target\"], test_size=0.3, random_state=42)"
   ]
  },
  {
   "cell_type": "code",
   "execution_count": 231,
   "id": "8787d5f1",
   "metadata": {},
   "outputs": [
    {
     "data": {
      "text/html": [
       "<div>\n",
       "<style scoped>\n",
       "    .dataframe tbody tr th:only-of-type {\n",
       "        vertical-align: middle;\n",
       "    }\n",
       "\n",
       "    .dataframe tbody tr th {\n",
       "        vertical-align: top;\n",
       "    }\n",
       "\n",
       "    .dataframe thead th {\n",
       "        text-align: right;\n",
       "    }\n",
       "</style>\n",
       "<table border=\"1\" class=\"dataframe\">\n",
       "  <thead>\n",
       "    <tr style=\"text-align: right;\">\n",
       "      <th></th>\n",
       "      <th>recency</th>\n",
       "      <th>history</th>\n",
       "      <th>used_discount</th>\n",
       "      <th>used_bogo</th>\n",
       "      <th>zip_code</th>\n",
       "      <th>is_referral</th>\n",
       "      <th>channel</th>\n",
       "      <th>treatment</th>\n",
       "    </tr>\n",
       "  </thead>\n",
       "  <tbody>\n",
       "    <tr>\n",
       "      <th>9656</th>\n",
       "      <td>7</td>\n",
       "      <td>434.35</td>\n",
       "      <td>1</td>\n",
       "      <td>0</td>\n",
       "      <td>Urban</td>\n",
       "      <td>1</td>\n",
       "      <td>Web</td>\n",
       "      <td>0</td>\n",
       "    </tr>\n",
       "    <tr>\n",
       "      <th>63037</th>\n",
       "      <td>1</td>\n",
       "      <td>376.59</td>\n",
       "      <td>1</td>\n",
       "      <td>0</td>\n",
       "      <td>Surburban</td>\n",
       "      <td>0</td>\n",
       "      <td>Multichannel</td>\n",
       "      <td>1</td>\n",
       "    </tr>\n",
       "    <tr>\n",
       "      <th>31405</th>\n",
       "      <td>3</td>\n",
       "      <td>140.34</td>\n",
       "      <td>0</td>\n",
       "      <td>1</td>\n",
       "      <td>Urban</td>\n",
       "      <td>1</td>\n",
       "      <td>Phone</td>\n",
       "      <td>1</td>\n",
       "    </tr>\n",
       "    <tr>\n",
       "      <th>58088</th>\n",
       "      <td>3</td>\n",
       "      <td>150.76</td>\n",
       "      <td>0</td>\n",
       "      <td>1</td>\n",
       "      <td>Surburban</td>\n",
       "      <td>0</td>\n",
       "      <td>Web</td>\n",
       "      <td>0</td>\n",
       "    </tr>\n",
       "    <tr>\n",
       "      <th>44344</th>\n",
       "      <td>2</td>\n",
       "      <td>67.97</td>\n",
       "      <td>1</td>\n",
       "      <td>0</td>\n",
       "      <td>Surburban</td>\n",
       "      <td>1</td>\n",
       "      <td>Phone</td>\n",
       "      <td>1</td>\n",
       "    </tr>\n",
       "    <tr>\n",
       "      <th>...</th>\n",
       "      <td>...</td>\n",
       "      <td>...</td>\n",
       "      <td>...</td>\n",
       "      <td>...</td>\n",
       "      <td>...</td>\n",
       "      <td>...</td>\n",
       "      <td>...</td>\n",
       "      <td>...</td>\n",
       "    </tr>\n",
       "    <tr>\n",
       "      <th>62570</th>\n",
       "      <td>3</td>\n",
       "      <td>276.21</td>\n",
       "      <td>0</td>\n",
       "      <td>1</td>\n",
       "      <td>Urban</td>\n",
       "      <td>0</td>\n",
       "      <td>Phone</td>\n",
       "      <td>1</td>\n",
       "    </tr>\n",
       "    <tr>\n",
       "      <th>38158</th>\n",
       "      <td>4</td>\n",
       "      <td>43.49</td>\n",
       "      <td>0</td>\n",
       "      <td>1</td>\n",
       "      <td>Urban</td>\n",
       "      <td>0</td>\n",
       "      <td>Phone</td>\n",
       "      <td>1</td>\n",
       "    </tr>\n",
       "    <tr>\n",
       "      <th>860</th>\n",
       "      <td>8</td>\n",
       "      <td>492.53</td>\n",
       "      <td>1</td>\n",
       "      <td>1</td>\n",
       "      <td>Rural</td>\n",
       "      <td>1</td>\n",
       "      <td>Phone</td>\n",
       "      <td>1</td>\n",
       "    </tr>\n",
       "    <tr>\n",
       "      <th>15795</th>\n",
       "      <td>5</td>\n",
       "      <td>72.28</td>\n",
       "      <td>1</td>\n",
       "      <td>0</td>\n",
       "      <td>Urban</td>\n",
       "      <td>1</td>\n",
       "      <td>Web</td>\n",
       "      <td>1</td>\n",
       "    </tr>\n",
       "    <tr>\n",
       "      <th>56422</th>\n",
       "      <td>3</td>\n",
       "      <td>787.51</td>\n",
       "      <td>1</td>\n",
       "      <td>1</td>\n",
       "      <td>Urban</td>\n",
       "      <td>1</td>\n",
       "      <td>Multichannel</td>\n",
       "      <td>0</td>\n",
       "    </tr>\n",
       "  </tbody>\n",
       "</table>\n",
       "<p>44800 rows × 8 columns</p>\n",
       "</div>"
      ],
      "text/plain": [
       "       recency  history  used_discount  used_bogo   zip_code  is_referral  \\\n",
       "9656         7   434.35              1          0      Urban            1   \n",
       "63037        1   376.59              1          0  Surburban            0   \n",
       "31405        3   140.34              0          1      Urban            1   \n",
       "58088        3   150.76              0          1  Surburban            0   \n",
       "44344        2    67.97              1          0  Surburban            1   \n",
       "...        ...      ...            ...        ...        ...          ...   \n",
       "62570        3   276.21              0          1      Urban            0   \n",
       "38158        4    43.49              0          1      Urban            0   \n",
       "860          8   492.53              1          1      Rural            1   \n",
       "15795        5    72.28              1          0      Urban            1   \n",
       "56422        3   787.51              1          1      Urban            1   \n",
       "\n",
       "            channel  treatment  \n",
       "9656            Web          0  \n",
       "63037  Multichannel          1  \n",
       "31405         Phone          1  \n",
       "58088           Web          0  \n",
       "44344         Phone          1  \n",
       "...             ...        ...  \n",
       "62570         Phone          1  \n",
       "38158         Phone          1  \n",
       "860           Phone          1  \n",
       "15795           Web          1  \n",
       "56422  Multichannel          0  \n",
       "\n",
       "[44800 rows x 8 columns]"
      ]
     },
     "execution_count": 231,
     "metadata": {},
     "output_type": "execute_result"
    }
   ],
   "source": [
    "x_train"
   ]
  },
  {
   "cell_type": "code",
   "execution_count": 232,
   "id": "5749bb94",
   "metadata": {},
   "outputs": [
    {
     "name": "stdout",
     "output_type": "stream",
     "text": [
      "<class 'pandas.core.frame.DataFrame'>\n",
      "Int64Index: 44800 entries, 9656 to 56422\n",
      "Data columns (total 8 columns):\n",
      " #   Column         Non-Null Count  Dtype  \n",
      "---  ------         --------------  -----  \n",
      " 0   recency        44800 non-null  int64  \n",
      " 1   history        44800 non-null  float64\n",
      " 2   used_discount  44800 non-null  int64  \n",
      " 3   used_bogo      44800 non-null  int64  \n",
      " 4   zip_code       44800 non-null  object \n",
      " 5   is_referral    44800 non-null  int64  \n",
      " 6   channel        44800 non-null  object \n",
      " 7   treatment      44800 non-null  int64  \n",
      "dtypes: float64(1), int64(5), object(2)\n",
      "memory usage: 3.1+ MB\n"
     ]
    }
   ],
   "source": [
    "x_train.info()"
   ]
  },
  {
   "cell_type": "code",
   "execution_count": 233,
   "id": "ede45b9a",
   "metadata": {},
   "outputs": [
    {
     "data": {
      "text/plain": [
       "Surburban    20274\n",
       "Urban        17824\n",
       "Rural         6702\n",
       "Name: zip_code, dtype: int64"
      ]
     },
     "execution_count": 233,
     "metadata": {},
     "output_type": "execute_result"
    }
   ],
   "source": [
    "x_train[\"zip_code\"].value_counts()"
   ]
  },
  {
   "cell_type": "code",
   "execution_count": 234,
   "id": "01b7882f",
   "metadata": {},
   "outputs": [
    {
     "data": {
      "text/plain": [
       "Web             19772\n",
       "Phone           19635\n",
       "Multichannel     5393\n",
       "Name: channel, dtype: int64"
      ]
     },
     "execution_count": 234,
     "metadata": {},
     "output_type": "execute_result"
    }
   ],
   "source": [
    "x_train[\"channel\"].value_counts()"
   ]
  },
  {
   "cell_type": "code",
   "execution_count": 237,
   "id": "d3b9d11a",
   "metadata": {},
   "outputs": [],
   "source": [
    "def data_processing(data):\n",
    "    updata = pd.get_dummies(data.copy(), prefix=[\"zip_code\", \"channel\"])\n",
    "    # columns = updata.columns\n",
    "    updata[\"recency\"] = updata[\"recency\"] / updata[\"recency\"].max()\n",
    "    updata[\"history\"] = updata[\"history\"] / updata[\"history\"].max()\n",
    "    # updata = pd.DataFrame(data=updata, columns=columns)\n",
    "    return updata"
   ]
  },
  {
   "cell_type": "code",
   "execution_count": 240,
   "id": "9fbfcfd7",
   "metadata": {},
   "outputs": [],
   "source": [
    "x_train = data_processing(x_train)"
   ]
  },
  {
   "cell_type": "code",
   "execution_count": 241,
   "id": "f2d14a61",
   "metadata": {},
   "outputs": [],
   "source": [
    "x_test = data_processing(x_test)"
   ]
  },
  {
   "cell_type": "code",
   "execution_count": 242,
   "id": "f156d395",
   "metadata": {},
   "outputs": [
    {
     "data": {
      "text/html": [
       "<div>\n",
       "<style scoped>\n",
       "    .dataframe tbody tr th:only-of-type {\n",
       "        vertical-align: middle;\n",
       "    }\n",
       "\n",
       "    .dataframe tbody tr th {\n",
       "        vertical-align: top;\n",
       "    }\n",
       "\n",
       "    .dataframe thead th {\n",
       "        text-align: right;\n",
       "    }\n",
       "</style>\n",
       "<table border=\"1\" class=\"dataframe\">\n",
       "  <thead>\n",
       "    <tr style=\"text-align: right;\">\n",
       "      <th></th>\n",
       "      <th>recency</th>\n",
       "      <th>history</th>\n",
       "      <th>used_discount</th>\n",
       "      <th>used_bogo</th>\n",
       "      <th>is_referral</th>\n",
       "      <th>treatment</th>\n",
       "      <th>zip_code_Rural</th>\n",
       "      <th>zip_code_Surburban</th>\n",
       "      <th>zip_code_Urban</th>\n",
       "      <th>channel_Multichannel</th>\n",
       "      <th>channel_Phone</th>\n",
       "      <th>channel_Web</th>\n",
       "    </tr>\n",
       "  </thead>\n",
       "  <tbody>\n",
       "    <tr>\n",
       "      <th>9656</th>\n",
       "      <td>0.583333</td>\n",
       "      <td>0.135060</td>\n",
       "      <td>1</td>\n",
       "      <td>0</td>\n",
       "      <td>1</td>\n",
       "      <td>0</td>\n",
       "      <td>0</td>\n",
       "      <td>0</td>\n",
       "      <td>1</td>\n",
       "      <td>0</td>\n",
       "      <td>0</td>\n",
       "      <td>1</td>\n",
       "    </tr>\n",
       "    <tr>\n",
       "      <th>63037</th>\n",
       "      <td>0.083333</td>\n",
       "      <td>0.117100</td>\n",
       "      <td>1</td>\n",
       "      <td>0</td>\n",
       "      <td>0</td>\n",
       "      <td>1</td>\n",
       "      <td>0</td>\n",
       "      <td>1</td>\n",
       "      <td>0</td>\n",
       "      <td>1</td>\n",
       "      <td>0</td>\n",
       "      <td>0</td>\n",
       "    </tr>\n",
       "    <tr>\n",
       "      <th>31405</th>\n",
       "      <td>0.250000</td>\n",
       "      <td>0.043638</td>\n",
       "      <td>0</td>\n",
       "      <td>1</td>\n",
       "      <td>1</td>\n",
       "      <td>1</td>\n",
       "      <td>0</td>\n",
       "      <td>0</td>\n",
       "      <td>1</td>\n",
       "      <td>0</td>\n",
       "      <td>1</td>\n",
       "      <td>0</td>\n",
       "    </tr>\n",
       "    <tr>\n",
       "      <th>58088</th>\n",
       "      <td>0.250000</td>\n",
       "      <td>0.046879</td>\n",
       "      <td>0</td>\n",
       "      <td>1</td>\n",
       "      <td>0</td>\n",
       "      <td>0</td>\n",
       "      <td>0</td>\n",
       "      <td>1</td>\n",
       "      <td>0</td>\n",
       "      <td>0</td>\n",
       "      <td>0</td>\n",
       "      <td>1</td>\n",
       "    </tr>\n",
       "    <tr>\n",
       "      <th>44344</th>\n",
       "      <td>0.166667</td>\n",
       "      <td>0.021135</td>\n",
       "      <td>1</td>\n",
       "      <td>0</td>\n",
       "      <td>1</td>\n",
       "      <td>1</td>\n",
       "      <td>0</td>\n",
       "      <td>1</td>\n",
       "      <td>0</td>\n",
       "      <td>0</td>\n",
       "      <td>1</td>\n",
       "      <td>0</td>\n",
       "    </tr>\n",
       "    <tr>\n",
       "      <th>...</th>\n",
       "      <td>...</td>\n",
       "      <td>...</td>\n",
       "      <td>...</td>\n",
       "      <td>...</td>\n",
       "      <td>...</td>\n",
       "      <td>...</td>\n",
       "      <td>...</td>\n",
       "      <td>...</td>\n",
       "      <td>...</td>\n",
       "      <td>...</td>\n",
       "      <td>...</td>\n",
       "      <td>...</td>\n",
       "    </tr>\n",
       "    <tr>\n",
       "      <th>62570</th>\n",
       "      <td>0.250000</td>\n",
       "      <td>0.085887</td>\n",
       "      <td>0</td>\n",
       "      <td>1</td>\n",
       "      <td>0</td>\n",
       "      <td>1</td>\n",
       "      <td>0</td>\n",
       "      <td>0</td>\n",
       "      <td>1</td>\n",
       "      <td>0</td>\n",
       "      <td>1</td>\n",
       "      <td>0</td>\n",
       "    </tr>\n",
       "    <tr>\n",
       "      <th>38158</th>\n",
       "      <td>0.333333</td>\n",
       "      <td>0.013523</td>\n",
       "      <td>0</td>\n",
       "      <td>1</td>\n",
       "      <td>0</td>\n",
       "      <td>1</td>\n",
       "      <td>0</td>\n",
       "      <td>0</td>\n",
       "      <td>1</td>\n",
       "      <td>0</td>\n",
       "      <td>1</td>\n",
       "      <td>0</td>\n",
       "    </tr>\n",
       "    <tr>\n",
       "      <th>860</th>\n",
       "      <td>0.666667</td>\n",
       "      <td>0.153151</td>\n",
       "      <td>1</td>\n",
       "      <td>1</td>\n",
       "      <td>1</td>\n",
       "      <td>1</td>\n",
       "      <td>1</td>\n",
       "      <td>0</td>\n",
       "      <td>0</td>\n",
       "      <td>0</td>\n",
       "      <td>1</td>\n",
       "      <td>0</td>\n",
       "    </tr>\n",
       "    <tr>\n",
       "      <th>15795</th>\n",
       "      <td>0.416667</td>\n",
       "      <td>0.022475</td>\n",
       "      <td>1</td>\n",
       "      <td>0</td>\n",
       "      <td>1</td>\n",
       "      <td>1</td>\n",
       "      <td>0</td>\n",
       "      <td>0</td>\n",
       "      <td>1</td>\n",
       "      <td>0</td>\n",
       "      <td>0</td>\n",
       "      <td>1</td>\n",
       "    </tr>\n",
       "    <tr>\n",
       "      <th>56422</th>\n",
       "      <td>0.250000</td>\n",
       "      <td>0.244875</td>\n",
       "      <td>1</td>\n",
       "      <td>1</td>\n",
       "      <td>1</td>\n",
       "      <td>0</td>\n",
       "      <td>0</td>\n",
       "      <td>0</td>\n",
       "      <td>1</td>\n",
       "      <td>1</td>\n",
       "      <td>0</td>\n",
       "      <td>0</td>\n",
       "    </tr>\n",
       "  </tbody>\n",
       "</table>\n",
       "<p>44800 rows × 12 columns</p>\n",
       "</div>"
      ],
      "text/plain": [
       "        recency   history  used_discount  used_bogo  is_referral  treatment  \\\n",
       "9656   0.583333  0.135060              1          0            1          0   \n",
       "63037  0.083333  0.117100              1          0            0          1   \n",
       "31405  0.250000  0.043638              0          1            1          1   \n",
       "58088  0.250000  0.046879              0          1            0          0   \n",
       "44344  0.166667  0.021135              1          0            1          1   \n",
       "...         ...       ...            ...        ...          ...        ...   \n",
       "62570  0.250000  0.085887              0          1            0          1   \n",
       "38158  0.333333  0.013523              0          1            0          1   \n",
       "860    0.666667  0.153151              1          1            1          1   \n",
       "15795  0.416667  0.022475              1          0            1          1   \n",
       "56422  0.250000  0.244875              1          1            1          0   \n",
       "\n",
       "       zip_code_Rural  zip_code_Surburban  zip_code_Urban  \\\n",
       "9656                0                   0               1   \n",
       "63037               0                   1               0   \n",
       "31405               0                   0               1   \n",
       "58088               0                   1               0   \n",
       "44344               0                   1               0   \n",
       "...               ...                 ...             ...   \n",
       "62570               0                   0               1   \n",
       "38158               0                   0               1   \n",
       "860                 1                   0               0   \n",
       "15795               0                   0               1   \n",
       "56422               0                   0               1   \n",
       "\n",
       "       channel_Multichannel  channel_Phone  channel_Web  \n",
       "9656                      0              0            1  \n",
       "63037                     1              0            0  \n",
       "31405                     0              1            0  \n",
       "58088                     0              0            1  \n",
       "44344                     0              1            0  \n",
       "...                     ...            ...          ...  \n",
       "62570                     0              1            0  \n",
       "38158                     0              1            0  \n",
       "860                       0              1            0  \n",
       "15795                     0              0            1  \n",
       "56422                     1              0            0  \n",
       "\n",
       "[44800 rows x 12 columns]"
      ]
     },
     "execution_count": 242,
     "metadata": {},
     "output_type": "execute_result"
    }
   ],
   "source": [
    "x_train"
   ]
  },
  {
   "cell_type": "code",
   "execution_count": 243,
   "id": "3fdabd81",
   "metadata": {},
   "outputs": [],
   "source": [
    "from sklearn.linear_model import LogisticRegression"
   ]
  },
  {
   "cell_type": "code",
   "execution_count": 244,
   "id": "e65fb3e4",
   "metadata": {},
   "outputs": [],
   "source": [
    "model = LogisticRegression()"
   ]
  },
  {
   "cell_type": "code",
   "execution_count": 246,
   "id": "f77d4544",
   "metadata": {},
   "outputs": [
    {
     "data": {
      "text/plain": [
       "LogisticRegression()"
      ]
     },
     "execution_count": 246,
     "metadata": {},
     "output_type": "execute_result"
    }
   ],
   "source": [
    "model.fit(x_train, y_train)"
   ]
  },
  {
   "cell_type": "code",
   "execution_count": 253,
   "id": "b64ea00e",
   "metadata": {},
   "outputs": [],
   "source": [
    "x_test_C = x_test.loc[x_test[\"treatment\"] == 0]\n",
    "x_test_T = x_test.loc[x_test[\"treatment\"] == 1][0:x_test_C.shape[0]]"
   ]
  },
  {
   "cell_type": "code",
   "execution_count": 295,
   "id": "42e37356",
   "metadata": {},
   "outputs": [],
   "source": [
    "preict_probabilities_x_test_T = model.predict_proba(x_test_C).T\n",
    "preict_probabilities_x_test_C = model.predict_proba(x_test_T).T"
   ]
  },
  {
   "cell_type": "code",
   "execution_count": 296,
   "id": "0d701705",
   "metadata": {},
   "outputs": [],
   "source": [
    "preict_x_test_T = preict_probabilities_x_test_T[0].T\n",
    "preict_x_test_C = preict_probabilities_x_test_C[0].T"
   ]
  },
  {
   "cell_type": "code",
   "execution_count": 297,
   "id": "c9e83c30",
   "metadata": {},
   "outputs": [
    {
     "data": {
      "text/plain": [
       "(array([0.890264  , 0.95901548, 0.91221138, ..., 0.87989635, 0.83503143,\n",
       "        0.91599341]),\n",
       " array([0.90586527, 0.75092633, 0.84074093, ..., 0.76389886, 0.74724312,\n",
       "        0.83460673]))"
      ]
     },
     "execution_count": 297,
     "metadata": {},
     "output_type": "execute_result"
    }
   ],
   "source": [
    "preict_x_test_T, preict_x_test_C"
   ]
  },
  {
   "cell_type": "code",
   "execution_count": null,
   "id": "2d21816f",
   "metadata": {},
   "outputs": [],
   "source": [
    "preict_x_test_T - preict_x_test_C"
   ]
  },
  {
   "cell_type": "code",
   "execution_count": 298,
   "id": "41922812",
   "metadata": {},
   "outputs": [],
   "source": [
    "uplift = preict_x_test_T - preict_x_test_C"
   ]
  },
  {
   "cell_type": "code",
   "execution_count": 299,
   "id": "9cc25f1f",
   "metadata": {},
   "outputs": [
    {
     "data": {
      "text/plain": [
       "array([-0.01560127,  0.20808915,  0.07147045, ...,  0.11599749,\n",
       "        0.08778831,  0.08138668])"
      ]
     },
     "execution_count": 299,
     "metadata": {},
     "output_type": "execute_result"
    }
   ],
   "source": [
    "uplift"
   ]
  },
  {
   "cell_type": "code",
   "execution_count": null,
   "id": "45381549",
   "metadata": {},
   "outputs": [],
   "source": [
    "    "
   ]
  }
 ],
 "metadata": {
  "kernelspec": {
   "display_name": "Python 3",
   "language": "python",
   "name": "python3"
  },
  "language_info": {
   "codemirror_mode": {
    "name": "ipython",
    "version": 3
   },
   "file_extension": ".py",
   "mimetype": "text/x-python",
   "name": "python",
   "nbconvert_exporter": "python",
   "pygments_lexer": "ipython3",
   "version": "3.8.8"
  }
 },
 "nbformat": 4,
 "nbformat_minor": 5
}
